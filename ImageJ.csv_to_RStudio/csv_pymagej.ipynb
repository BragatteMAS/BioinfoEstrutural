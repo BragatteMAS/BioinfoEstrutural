{
  "nbformat": 4,
  "nbformat_minor": 0,
  "metadata": {
    "colab": {
      "name": "csv_pymagej.ipynb",
      "provenance": [],
      "collapsed_sections": [],
      "authorship_tag": "ABX9TyNPG0bciXg7W1NJl48rEx+n",
      "include_colab_link": true
    },
    "kernelspec": {
      "name": "python3",
      "display_name": "Python 3"
    }
  },
  "cells": [
    {
      "cell_type": "markdown",
      "metadata": {
        "id": "view-in-github",
        "colab_type": "text"
      },
      "source": [
        "<a href=\"https://colab.research.google.com/github/BragatteMAS/ImageJ.csv_to_RStudio/blob/master/csv_pymagej.ipynb\" target=\"_parent\"><img src=\"https://colab.research.google.com/assets/colab-badge.svg\" alt=\"Open In Colab\"/></a>"
      ]
    },
    {
      "cell_type": "code",
      "metadata": {
        "id": "m3VxSgwsxjhI",
        "colab_type": "code",
        "colab": {}
      },
      "source": [
        "from functools import reduce\n",
        "\n",
        "import pandas as pd\n",
        "import itertools\n",
        "import glob"
      ],
      "execution_count": 0,
      "outputs": []
    },
    {
      "cell_type": "code",
      "metadata": {
        "id": "hcHFm6iAxvsm",
        "colab_type": "code",
        "colab": {}
      },
      "source": [
        "def read_file(path):\n",
        "    df = pd.DataFrame(pd.read_csv(path, index_col=0).unstack(level=0)).T\n",
        "    df.columns = ['_'.join(combination) for combination in itertools.product(*df.columns.levels)]\n",
        "    df['name'] = path\n",
        "    df.set_index('name', drop=True, inplace=True)\n",
        "    return df\n",
        "\n",
        "files = [f for f in glob.glob('./**') if '.csv' in f]"
      ],
      "execution_count": 0,
      "outputs": []
    },
    {
      "cell_type": "code",
      "metadata": {
        "id": "k3cFECOgxvwI",
        "colab_type": "code",
        "colab": {}
      },
      "source": [
        "final_df = reduce(lambda prev_df, new_df: prev_df.append(read_file(new_df)),\n",
        "                  files,\n",
        "                  pd.DataFrame())"
      ],
      "execution_count": 0,
      "outputs": []
    },
    {
      "cell_type": "code",
      "metadata": {
        "id": "4NqmCmSuxv0a",
        "colab_type": "code",
        "colab": {}
      },
      "source": [
        "final_df"
      ],
      "execution_count": 0,
      "outputs": []
    },
    {
      "cell_type": "code",
      "metadata": {
        "id": "kepzYezkxwGD",
        "colab_type": "code",
        "colab": {}
      },
      "source": [
        ""
      ],
      "execution_count": 0,
      "outputs": []
    }
  ]
}