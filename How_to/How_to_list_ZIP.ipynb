{
  "nbformat": 4,
  "nbformat_minor": 0,
  "metadata": {
    "colab": {
      "name": "How_to_list_ZIP.ipynb",
      "provenance": [],
      "authorship_tag": "ABX9TyMbl2W9hv4WRIwE7n9n30+P",
      "include_colab_link": true
    },
    "kernelspec": {
      "name": "python3",
      "display_name": "Python 3"
    },
    "language_info": {
      "name": "python"
    }
  },
  "cells": [
    {
      "cell_type": "markdown",
      "metadata": {
        "id": "view-in-github",
        "colab_type": "text"
      },
      "source": [
        "<a href=\"https://colab.research.google.com/github/BragatteMAS/BioinfoEstrutural/blob/master/How_to/How_to_list_ZIP.ipynb\" target=\"_parent\"><img src=\"https://colab.research.google.com/assets/colab-badge.svg\" alt=\"Open In Colab\"/></a>"
      ]
    },
    {
      "cell_type": "markdown",
      "metadata": {
        "id": "gUGa0d6ee-dF"
      },
      "source": [
        "# Simplify Iterating Over Multiple Lists With Zip()\n",
        "\n",
        "@Bragatte 202103231615 | REFactor\n"
      ]
    },
    {
      "cell_type": "code",
      "metadata": {
        "colab": {
          "base_uri": "https://localhost:8080/"
        },
        "id": "XGb4twlVeb5T",
        "outputId": "0742bbca-d6a5-4cd1-dedb-3c37e0439d02"
      },
      "source": [
        "# Define a collection, such as list:\n",
        "names = ['Bragatte', 'Sa', 'Bebel', 'Doug']\n",
        "ages = [35, 37, 2, 2]\n",
        "gender = ['Male', 'Female', 'Female', 'Male']\n",
        "\n",
        "# Old boring way:\n",
        "for_looped = []\n",
        "for i in range(len(names)):\n",
        "    for_looped.append((names[i], ages[i], gender[i]))\n",
        "\n",
        "print(for_looped)"
      ],
      "execution_count": 1,
      "outputs": [
        {
          "output_type": "stream",
          "text": [
            "[('Bragatte', 35, 'Male'), ('Sa', 37, 'Female'), ('Bebel', 2, 'Female'), ('Doug', 2, 'Male')]\n"
          ],
          "name": "stdout"
        }
      ]
    },
    {
      "cell_type": "markdown",
      "metadata": {
        "id": "v09LGniugHsg"
      },
      "source": [
        "It’s an OK way of doing things, but depending on how many items you’re iterating over, this can become quite cumbersome.\n",
        "\n",
        "Using Python’s built-in `zip()` function, we can simplify this quite a bit.\n",
        "\n",
        "*Note: The `zip()` function returns a `zip` object, but you can coerce it into different datatypes directly using, say, the `list()`, `tuple()`, or `dict()` functions.*\n",
        "\n",
        "Let’s take a look at this example and return the list of tuples again:"
      ]
    },
    {
      "cell_type": "code",
      "metadata": {
        "colab": {
          "base_uri": "https://localhost:8080/"
        },
        "id": "TLkssASBgJO1",
        "outputId": "927dfe61-221d-40ef-acd3-c84ea50344c7"
      },
      "source": [
        "# Zipping through lists with zip()\n",
        "zipped = zip(names, ages, gender)\n",
        "zipped_list = list(zipped)\n",
        "\n",
        "print(zipped_list)"
      ],
      "execution_count": 2,
      "outputs": [
        {
          "output_type": "stream",
          "text": [
            "[('Bragatte', 35, 'Male'), ('Sa', 37, 'Female'), ('Bebel', 2, 'Female'), ('Doug', 2, 'Male')]\n"
          ],
          "name": "stdout"
        }
      ]
    },
    {
      "cell_type": "markdown",
      "metadata": {
        "id": "TVslu7A8gQhU"
      },
      "source": [
        "This is much cleaner to write!\n",
        "\n",
        "You can also coerce things directly into dictionaries, but you can only do this with two collections at most!\n",
        "\n",
        "So for example, if you want a dictionary with the key:value pairs of name:age, you could write:"
      ]
    },
    {
      "cell_type": "code",
      "metadata": {
        "colab": {
          "base_uri": "https://localhost:8080/"
        },
        "id": "_WTkEv0fgRWy",
        "outputId": "94643109-32c2-455e-e66b-fad526618b7e"
      },
      "source": [
        "ages = dict(zip(names,ages))\n",
        "\n",
        "print(ages)"
      ],
      "execution_count": 3,
      "outputs": [
        {
          "output_type": "stream",
          "text": [
            "{'Bragatte': 35, 'Sa': 37, 'Bebel': 2, 'Doug': 2}\n"
          ],
          "name": "stdout"
        }
      ]
    },
    {
      "cell_type": "markdown",
      "metadata": {
        "id": "UMES7mIKgdW2"
      },
      "source": [
        "    Doing this with more than two collections will raise a ValueError."
      ]
    }
  ]
}