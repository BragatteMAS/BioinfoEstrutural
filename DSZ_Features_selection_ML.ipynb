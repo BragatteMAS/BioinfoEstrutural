{
  "nbformat": 4,
  "nbformat_minor": 0,
  "metadata": {
    "colab": {
      "name": "DSZ_Features_selection_ML.ipynb",
      "provenance": [],
      "collapsed_sections": [
        "TYiSgTsPzap5",
        "gRwyWowV1Ls6"
      ],
      "authorship_tag": "ABX9TyPW/ZxPnOSeZh0i05czaaeV",
      "include_colab_link": true
    },
    "kernelspec": {
      "name": "python3",
      "display_name": "Python 3"
    }
  },
  "cells": [
    {
      "cell_type": "markdown",
      "metadata": {
        "id": "view-in-github",
        "colab_type": "text"
      },
      "source": [
        "<a href=\"https://colab.research.google.com/github/BragatteMAS/BioinfoEstrutural/blob/master/DSZ_Features_selection_ML.ipynb\" target=\"_parent\"><img src=\"https://colab.research.google.com/assets/colab-badge.svg\" alt=\"Open In Colab\"/></a>"
      ]
    },
    {
      "cell_type": "markdown",
      "metadata": {
        "id": "ploS-A1_SXpz",
        "colab_type": "text"
      },
      "source": [
        "# Why select features?\n",
        "[Tutorial](https://www.youtube.com/watch?v=4RGT2YRHERY&feature=em-uploademail)\n",
        "\n",
        "*   Some features (not informative) add noise to the model;\n",
        "*   Simple models are self explain, we must avoid the loss of explanability of our models;\n",
        "*   Many features can cause problems such as excessive training times, or even difficulties in putting models into production."
      ]
    },
    {
      "cell_type": "markdown",
      "metadata": {
        "id": "Yh5vlP7sTcgo",
        "colab_type": "text"
      },
      "source": [
        "## New Section"
      ]
    },
    {
      "cell_type": "code",
      "metadata": {
        "id": "4v1lsWL8Ocf-",
        "colab_type": "code",
        "colab": {}
      },
      "source": [
        "import pandas as pd"
      ],
      "execution_count": null,
      "outputs": []
    },
    {
      "cell_type": "code",
      "metadata": {
        "id": "MOCU-FVEaVb5",
        "colab_type": "code",
        "colab": {}
      },
      "source": [
        "colnames = ['preg','plas','pres','skin','test','mass','pedi','age','class']"
      ],
      "execution_count": null,
      "outputs": []
    },
    {
      "cell_type": "code",
      "metadata": {
        "id": "8_WOha_z1Btp",
        "colab_type": "code",
        "colab": {}
      },
      "source": [
        "df = pd.read_csv('https://raw.githubusercontent.com/jbrownlee/Datasets/master/pima-indians-diabetes.csv',names=colnames)"
      ],
      "execution_count": null,
      "outputs": []
    },
    {
      "cell_type": "code",
      "metadata": {
        "id": "HXuquXnT1BqO",
        "colab_type": "code",
        "colab": {}
      },
      "source": [
        "df.head()"
      ],
      "execution_count": null,
      "outputs": []
    },
    {
      "cell_type": "code",
      "metadata": {
        "id": "8DkpS-Jv1Bn7",
        "colab_type": "code",
        "colab": {}
      },
      "source": [
        "df.info()"
      ],
      "execution_count": null,
      "outputs": []
    },
    {
      "cell_type": "code",
      "metadata": {
        "id": "hR0WNhp71BlA",
        "colab_type": "code",
        "colab": {}
      },
      "source": [
        "x = df.drop(['class'], axis = 1) #separeting features and class\n",
        "y = df['class']"
      ],
      "execution_count": null,
      "outputs": []
    },
    {
      "cell_type": "markdown",
      "metadata": {
        "id": "VOR7SqCLa6be",
        "colab_type": "text"
      },
      "source": [
        "## Statistics Tests\n",
        "*   Used for classification problems\n",
        "*   f-classif is adequated when the data is numeric and the target variable is categoryc\n",
        "*   The mutual_info_classif is more suitable when not exist a linear dependencie betwen the features and the target variable\n",
        "*   f_regression aplied for regression problems"
      ]
    },
    {
      "cell_type": "code",
      "metadata": {
        "id": "p0un375o1Biu",
        "colab_type": "code",
        "colab": {}
      },
      "source": [
        "from sklearn.feature_selection import SelectKBest #choose best top k features (k = reduce the number of relevant categories to work)\n",
        "from sklearn.feature_selection import f_classif, mutual_info_classif #Not exist a linear dependencie use mutual_info"
      ],
      "execution_count": null,
      "outputs": []
    },
    {
      "cell_type": "code",
      "metadata": {
        "id": "QKWvPnc31Bfv",
        "colab_type": "code",
        "colab": {}
      },
      "source": [
        "f_classif = SelectKBest(score_func=f_classif, k=4) #score_func from SelectKBest defines the math function"
      ],
      "execution_count": null,
      "outputs": []
    },
    {
      "cell_type": "code",
      "metadata": {
        "id": "M_ySgVcQ1BdT",
        "colab_type": "code",
        "colab": {}
      },
      "source": [
        "fit = f_classif.fit(x,y) #learn the representation and the poontuations"
      ],
      "execution_count": null,
      "outputs": []
    },
    {
      "cell_type": "code",
      "metadata": {
        "id": "Y9Ak72h71Bab",
        "colab_type": "code",
        "colab": {}
      },
      "source": [
        "features = fit.transform(x) "
      ],
      "execution_count": null,
      "outputs": []
    },
    {
      "cell_type": "code",
      "metadata": {
        "id": "Hoh_2JEA1BXl",
        "colab_type": "code",
        "colab": {}
      },
      "source": [
        "print(features) #Best characteristics"
      ],
      "execution_count": null,
      "outputs": []
    },
    {
      "cell_type": "code",
      "metadata": {
        "id": "hchMSGpW1BU2",
        "colab_type": "code",
        "colab": {}
      },
      "source": [
        "cols = fit.get_support(indices = True)\n",
        "df.iloc[:,cols] #found columns with indices"
      ],
      "execution_count": null,
      "outputs": []
    },
    {
      "cell_type": "markdown",
      "metadata": {
        "id": "KZ23Rcr9tQV0",
        "colab_type": "text"
      },
      "source": [
        "## Aply Chi2\n",
        "*   Normally used when both features and target variable are categorical "
      ]
    },
    {
      "cell_type": "code",
      "metadata": {
        "id": "A8w7kiOKtLGu",
        "colab_type": "code",
        "colab": {}
      },
      "source": [
        "from sklearn.feature_selection import SelectKBest\n",
        "from sklearn.feature_selection import chi2 "
      ],
      "execution_count": null,
      "outputs": []
    },
    {
      "cell_type": "code",
      "metadata": {
        "id": "Z9rAXkCN1BSS",
        "colab_type": "code",
        "colab": {}
      },
      "source": [
        "#features extraction\n",
        "test = SelectKBest(chi2, k=4) "
      ],
      "execution_count": null,
      "outputs": []
    },
    {
      "cell_type": "code",
      "metadata": {
        "id": "B6j_-EP41BPd",
        "colab_type": "code",
        "colab": {}
      },
      "source": [
        "fit= test.fit(x,y)"
      ],
      "execution_count": null,
      "outputs": []
    },
    {
      "cell_type": "code",
      "metadata": {
        "id": "TObuY4DZuXa6",
        "colab_type": "code",
        "colab": {}
      },
      "source": [
        "fit.get_support(indices=True) #best characteristcs"
      ],
      "execution_count": null,
      "outputs": []
    },
    {
      "cell_type": "code",
      "metadata": {
        "id": "Wil7-BbZuXei",
        "colab_type": "code",
        "colab": {}
      },
      "source": [
        "features  = fit.transform(x) #Apply the learning"
      ],
      "execution_count": null,
      "outputs": []
    },
    {
      "cell_type": "code",
      "metadata": {
        "id": "1z5eCo-FuXhR",
        "colab_type": "code",
        "colab": {}
      },
      "source": [
        "print(features)"
      ],
      "execution_count": null,
      "outputs": []
    },
    {
      "cell_type": "code",
      "metadata": {
        "id": "5DCsR88CuXkS",
        "colab_type": "code",
        "colab": {}
      },
      "source": [
        "cols = fit.get_support(indices = True)\n",
        "df.iloc[:,cols] #found columns with indices"
      ],
      "execution_count": null,
      "outputs": []
    },
    {
      "cell_type": "markdown",
      "metadata": {
        "id": "8hv8GluWwJzb",
        "colab_type": "text"
      },
      "source": [
        "## Recursive Feature Elimination - RFE\n",
        "*   RFE build models from removed features\n",
        "*   Use modedls acurracy to identify attributes or a combination of those that best contributed to a better performance\n",
        "*   Larger dataset processing time could be an issue"
      ]
    },
    {
      "cell_type": "code",
      "metadata": {
        "id": "eATozWb_uXm7",
        "colab_type": "code",
        "colab": {}
      },
      "source": [
        "from sklearn.linear_model import LogisticRegression"
      ],
      "execution_count": null,
      "outputs": []
    },
    {
      "cell_type": "code",
      "metadata": {
        "id": "sy7dWJsGuXp5",
        "colab_type": "code",
        "colab": {}
      },
      "source": [
        "model = LogisticRegression(max_iter=2000) #standard 1000"
      ],
      "execution_count": null,
      "outputs": []
    },
    {
      "cell_type": "code",
      "metadata": {
        "id": "GH-8ptCWxR-Y",
        "colab_type": "code",
        "colab": {}
      },
      "source": [
        "from sklearn.feature_selection import RFE"
      ],
      "execution_count": null,
      "outputs": []
    },
    {
      "cell_type": "code",
      "metadata": {
        "id": "pMxUS7pLuXsf",
        "colab_type": "code",
        "colab": {}
      },
      "source": [
        "rfe = RFE(model, 4)"
      ],
      "execution_count": null,
      "outputs": []
    },
    {
      "cell_type": "code",
      "metadata": {
        "id": "vELmZaLiuXvi",
        "colab_type": "code",
        "colab": {}
      },
      "source": [
        "fit = rfe.fit(x,y)"
      ],
      "execution_count": null,
      "outputs": []
    },
    {
      "cell_type": "code",
      "metadata": {
        "id": "jHjX_QXLuXyh",
        "colab_type": "code",
        "colab": {}
      },
      "source": [
        "print(f\"Number of features: {fit.n_features_}\")"
      ],
      "execution_count": null,
      "outputs": []
    },
    {
      "cell_type": "code",
      "metadata": {
        "id": "AfSwNYDSuX1g",
        "colab_type": "code",
        "colab": {}
      },
      "source": [
        "cols = fit.get_support(indices = True)\n",
        "df.iloc[:,cols] #found columns with indices"
      ],
      "execution_count": null,
      "outputs": []
    },
    {
      "cell_type": "markdown",
      "metadata": {
        "id": "2qo0ZGj6w4Dn",
        "colab_type": "text"
      },
      "source": [
        "### Feature importance"
      ]
    },
    {
      "cell_type": "code",
      "metadata": {
        "id": "vt1hWzG6uX4m",
        "colab_type": "code",
        "colab": {}
      },
      "source": [
        "from sklearn.ensemble import RandomForestClassifier"
      ],
      "execution_count": null,
      "outputs": []
    },
    {
      "cell_type": "code",
      "metadata": {
        "id": "kGw1hMELuX7n",
        "colab_type": "code",
        "colab": {}
      },
      "source": [
        "# feature extraction\n",
        "model = RandomForestClassifier(n_estimators=10) #ten trees\n",
        "model.fit(x,y) #training model"
      ],
      "execution_count": null,
      "outputs": []
    },
    {
      "cell_type": "code",
      "metadata": {
        "id": "bmj60M6MuX-i",
        "colab_type": "code",
        "colab": {}
      },
      "source": [
        "print(model.feature_importances_) #print best features"
      ],
      "execution_count": null,
      "outputs": []
    },
    {
      "cell_type": "code",
      "metadata": {
        "id": "l3Yy-vnNuYB6",
        "colab_type": "code",
        "colab": {}
      },
      "source": [
        "colnames #name the features"
      ],
      "execution_count": null,
      "outputs": []
    },
    {
      "cell_type": "code",
      "metadata": {
        "id": "6QrRgWfAyjOk",
        "colab_type": "code",
        "colab": {}
      },
      "source": [
        "import pandas as pd\n",
        "feature_importances = pd.DataFrame(model.feature_importances_,\n",
        "                                   index = x.columns,\n",
        "                                   columns=['importance']).sort_values('importance', ascending=False)   "
      ],
      "execution_count": null,
      "outputs": []
    },
    {
      "cell_type": "code",
      "metadata": {
        "id": "YVLmGFfNyjSN",
        "colab_type": "code",
        "colab": {}
      },
      "source": [
        "feature_importances"
      ],
      "execution_count": null,
      "outputs": []
    },
    {
      "cell_type": "code",
      "metadata": {
        "id": "zCJLNHNuyjVx",
        "colab_type": "code",
        "colab": {}
      },
      "source": [
        "feature_importances.plot(kind='bar');"
      ],
      "execution_count": null,
      "outputs": []
    },
    {
      "cell_type": "markdown",
      "metadata": {
        "id": "TYiSgTsPzap5",
        "colab_type": "text"
      },
      "source": [
        "## Automatazing Feature Selection\n",
        "*   If sklearn could use pipelines for automatization"
      ]
    },
    {
      "cell_type": "code",
      "metadata": {
        "id": "fx87Cw_UyjZT",
        "colab_type": "code",
        "colab": {}
      },
      "source": [
        "from sklearn.pipeline import Pipeline"
      ],
      "execution_count": null,
      "outputs": []
    },
    {
      "cell_type": "code",
      "metadata": {
        "id": "oWSIndpayjcc",
        "colab_type": "code",
        "colab": {}
      },
      "source": [
        "#Creating a pipeline\n",
        "clf = Pipeline([\n",
        "                ('feature_selection', RFE(LogisticRegression(max_iter=2000),4)), #execute RFE with logistregression\n",
        "                ('classification', RandomForestClassifier()) #execute classification with RandomForest\n",
        "])"
      ],
      "execution_count": null,
      "outputs": []
    },
    {
      "cell_type": "code",
      "metadata": {
        "id": "55EmVlYk09Jt",
        "colab_type": "code",
        "colab": {}
      },
      "source": [
        "clf.fit(x,y)"
      ],
      "execution_count": null,
      "outputs": []
    },
    {
      "cell_type": "code",
      "metadata": {
        "id": "43GrNhiOz1rB",
        "colab_type": "code",
        "colab": {}
      },
      "source": [
        "clf.steps"
      ],
      "execution_count": null,
      "outputs": []
    },
    {
      "cell_type": "markdown",
      "metadata": {
        "id": "gRwyWowV1Ls6",
        "colab_type": "text"
      },
      "source": [
        "## Which method should use?\n",
        "*   First RFE if computacional resources are available\n",
        "*   If working with classification and numeric features use f_classif or mutual_info_classif\n",
        "*   If working with Regression and numeric features use f_regression or mutual_info_regression\n",
        "*   If working with categorical features use Chi2\n",
        "*   automatize steps with Pipelines to avoid errors\n",
        "\n",
        "\n",
        "\n",
        "\n",
        "\n"
      ]
    },
    {
      "cell_type": "code",
      "metadata": {
        "id": "WQHKnPs53rws",
        "colab_type": "code",
        "colab": {}
      },
      "source": [
        ""
      ],
      "execution_count": null,
      "outputs": []
    }
  ]
}